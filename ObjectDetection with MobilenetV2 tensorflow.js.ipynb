{
 "cells": [
  {
   "cell_type": "markdown",
   "metadata": {},
   "source": [
    "# Clean lean object detection training for tensorflow.js with mobilenetv2 notebook"
   ]
  },
  {
   "cell_type": "code",
   "execution_count": null,
   "metadata": {},
   "outputs": [],
   "source": [
    "#Load images in form of tensors for training:\n",
    "%cd /content\n",
    "!curl -L \"https://app.roboflow.com/ds/3BEuFXmB2K?key=Xpbcwj23it\" > roboflow.zip; unzip roboflow.zip; rm roboflow.zip"
   ]
  },
  {
   "cell_type": "code",
   "execution_count": null,
   "metadata": {},
   "outputs": [],
   "source": [
    "#Train the model:\n",
    "!python /content/models/research/object_detection/exporter_main_v2.py --trained_checkpoint_dir=/content/models/research --output_directory=/content/models/research/output --pipeline_config_path=/content/models/research/ssd_mobilenet_v2_320x320_coco17_tpu-8.config"
   ]
  },
  {
   "cell_type": "code",
   "execution_count": null,
   "metadata": {},
   "outputs": [],
   "source": [
    "#Save the model in \"keras saved model\" format:\n",
    "!tensorflowjs_converter  --input_format=tf_saved_model --output_node_names='detection_boxes,detection_classes,detection_features,detection_multiclass_scores,detection_scores,num_detections,raw_detection_boxes,raw_detection_scores' --saved_model_tags=serve --output_format=tfjs_graph_model /content/models/research/output/saved_model/ /content/models/research/webmodel"
   ]
  },
  {
   "cell_type": "code",
   "execution_count": null,
   "metadata": {},
   "outputs": [],
   "source": [
    "#Convert the model to tensorflow.js format:\n",
    "!tensorflowjs_converter  --input_format=tf_saved_model --output_node_names='detection_boxes,detection_classes,detection_features,detection_multiclass_scores,detection_scores,num_detections,raw_detection_boxes,raw_detection_scores' --saved_model_tags=serve --output_format=tfjs_graph_model /content/models/research/output/saved_model/ /content/models/research/webmodel"
   ]
  }
 ],
 "metadata": {
  "kernelspec": {
   "display_name": "Python 3",
   "language": "python",
   "name": "python3"
  }
 },
 "nbformat": 4,
 "nbformat_minor": 4
}
